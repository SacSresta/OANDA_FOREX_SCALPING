{
 "cells": [
  {
   "cell_type": "code",
   "execution_count": 2,
   "id": "0da4e405",
   "metadata": {},
   "outputs": [],
   "source": [
    "from oandapyV20.endpoints import instruments, orders, accounts\n",
    "import pandas as pd\n",
    "import numpy as np\n",
    "from oandapyV20 import API\n",
    "from dotenv import load_dotenv\n",
    "import os\n",
    "load_dotenv()\n",
    "\n",
    "account_id = os.getenv('OANDA_ACCOUNT_ID')\n",
    "access_key = os.getenv('OANDA_ACCESS_KEY')\n",
    "api = API(access_token=access_key)"
   ]
  },
  {
   "cell_type": "code",
   "execution_count": null,
   "id": "ee4ad908",
   "metadata": {},
   "outputs": [
    {
     "data": {
      "text/plain": [
       "True"
      ]
     },
     "execution_count": 5,
     "metadata": {},
     "output_type": "execute_result"
    }
   ],
   "source": [
    "from oandapyv20.endpoints."
   ]
  },
  {
   "cell_type": "code",
   "execution_count": null,
   "id": "1cf0d9fc",
   "metadata": {},
   "outputs": [],
   "source": []
  }
 ],
 "metadata": {
  "kernelspec": {
   "display_name": "OANDA_FOREX_SCALPING",
   "language": "python",
   "name": "python3"
  },
  "language_info": {
   "codemirror_mode": {
    "name": "ipython",
    "version": 3
   },
   "file_extension": ".py",
   "mimetype": "text/x-python",
   "name": "python",
   "nbconvert_exporter": "python",
   "pygments_lexer": "ipython3",
   "version": "3.12.9"
  }
 },
 "nbformat": 4,
 "nbformat_minor": 5
}
