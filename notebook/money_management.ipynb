{
 "cells": [
  {
   "cell_type": "code",
   "execution_count": 40,
   "id": "b7af5013",
   "metadata": {},
   "outputs": [],
   "source": [
    "import os\n",
    "import time\n",
    "import pandas as pd\n",
    "import numpy as np\n",
    "from datetime import datetime, timedelta, timezone\n",
    "from oandapyV20 import API\n",
    "from oandapyV20.endpoints import instruments, orders\n",
    "import warnings\n",
    "from dotenv import load_dotenv\n",
    "import traceback\n",
    "import threading\n",
    "np.NaN = np.nan\n",
    "import pandas_ta as ta\n",
    "# -----------------------------\n",
    "# 0️⃣ Setup\n",
    "# -----------------------------\n",
    "load_dotenv()\n",
    "account_id = os.getenv('OANDA_ACCOUNT_ID_HEDGE')\n",
    "access_key = os.getenv('OANDA_ACCESS_KEY')\n",
    "api = API(access_token=access_key)\n",
    "warnings.filterwarnings(\"ignore\")\n",
    "\n",
    "\n",
    "# -----------------------------\n",
    "# 1️⃣ Helper functions\n",
    "# -----------------------------\n",
    "def get_candles(symbol: str, count: int = 20, granularity: str = 'M1'):\n",
    "    params = {\"count\": count, \"granularity\": granularity, \"price\": \"MBA\"}\n",
    "    r = instruments.InstrumentsCandles(instrument=symbol, params=params)\n",
    "    response = api.request(r)\n",
    "    return response['candles']\n",
    "\n",
    "\n",
    "def candles_to_df(candles):\n",
    "    records = []\n",
    "    for c in candles:\n",
    "        records.append({\n",
    "            \"time\": pd.to_datetime(c[\"time\"]),\n",
    "            \"complete\": c[\"complete\"],\n",
    "            \"volume\": c[\"volume\"],\n",
    "            \"mid_o\": float(c[\"mid\"][\"o\"]),\n",
    "            \"mid_h\": float(c[\"mid\"][\"h\"]),\n",
    "            \"mid_l\": float(c[\"mid\"][\"l\"]),\n",
    "            \"mid_c\": float(c[\"mid\"][\"c\"]),\n",
    "            \"bid_o\": float(c[\"bid\"][\"o\"]),\n",
    "            \"bid_h\": float(c[\"bid\"][\"h\"]),\n",
    "            \"bid_l\": float(c[\"bid\"][\"l\"]),\n",
    "            \"bid_c\": float(c[\"bid\"][\"c\"]),\n",
    "            \"ask_o\": float(c[\"ask\"][\"o\"]),\n",
    "            \"ask_h\": float(c[\"ask\"][\"h\"]),\n",
    "            \"ask_l\": float(c[\"ask\"][\"l\"]),\n",
    "            \"ask_c\": float(c[\"ask\"][\"c\"]),\n",
    "        })\n",
    "    return pd.DataFrame(records)\n",
    "\n",
    "\n",
    "def format_price(price, instrument):\n",
    "    # JPY pairs → 3 decimals, others → 5 decimals\n",
    "    if \"JPY\" in instrument:\n",
    "        return str(round(price, 3))\n",
    "    else:\n",
    "        return str(round(price, 5))\n",
    "\n",
    "\n",
    "def place_order(units: int, side: str, sl_price: float, tp_price: float, symbol: str):\n",
    "    data = {\n",
    "        \"order\": {\n",
    "            \"instrument\": symbol,\n",
    "            \"units\": str(units if side == \"buy\" else -units),\n",
    "            \"type\": \"MARKET\",\n",
    "            \"positionFill\": \"DEFAULT\",\n",
    "            \"stopLossOnFill\": {\"price\": format_price(sl_price, symbol)},\n",
    "            \"takeProfitOnFill\": {\"price\": format_price(tp_price, symbol)}\n",
    "        }\n",
    "    }\n",
    "    print(format_price(sl_price, symbol), \"Stop loss\")\n",
    "    print(format_price(tp_price, symbol),\"Take profit\")\n",
    "    r = orders.OrderCreate(accountID=account_id, data=data)\n",
    "    response = api.request(r)\n",
    "    print(f\"[{datetime.now(timezone.utc)}] Order placed: {response}\")\n",
    "\n"
   ]
  },
  {
   "cell_type": "code",
   "execution_count": 41,
   "id": "fac11f1b",
   "metadata": {},
   "outputs": [],
   "source": [
    "import os"
   ]
  },
  {
   "cell_type": "code",
   "execution_count": 42,
   "id": "ad0711fe",
   "metadata": {},
   "outputs": [],
   "source": [
    "os.chdir('..')"
   ]
  },
  {
   "cell_type": "code",
   "execution_count": 43,
   "id": "34ea3390",
   "metadata": {},
   "outputs": [],
   "source": [
    "from strategies.vwap_rsi_scalping import strategy  # Your custom strategy function\n"
   ]
  },
  {
   "cell_type": "code",
   "execution_count": null,
   "id": "febda2d7",
   "metadata": {},
   "outputs": [
    {
     "data": {
      "text/plain": [
       "np.float64(0.00034000000000000696)"
      ]
     },
     "execution_count": 44,
     "metadata": {},
     "output_type": "execute_result"
    }
   ],
   "source": [
    "data = get_candles(\"EUR_JPY\", count=500, granularity=\"M1\")\n",
    "df = candles_to_df(data)\n",
    "df = df[df['complete']]\n",
    "df.iloc[-1]['ask_o'] - df.iloc[-1]['bid_o']"
   ]
  },
  {
   "cell_type": "code",
   "execution_count": 45,
   "id": "947d0914",
   "metadata": {},
   "outputs": [],
   "source": [
    "df['Open'], df['High'], df['Low'], df['Close'], df['Volume'] = \\\n",
    "                df['mid_o'], df['mid_h'], df['mid_l'], df['mid_c'], df['volume']\n",
    "df = df.sort_values('time')\n",
    "df.set_index('time', inplace=True)\n",
    "df = strategy(df,15, 1.5)        "
   ]
  },
  {
   "cell_type": "code",
   "execution_count": 46,
   "id": "d23cf06a",
   "metadata": {},
   "outputs": [
    {
     "data": {
      "text/plain": [
       "Index(['time', 'complete', 'volume', 'mid_o', 'mid_h', 'mid_l', 'mid_c',\n",
       "       'bid_o', 'bid_h', 'bid_l', 'bid_c', 'ask_o', 'ask_h', 'ask_l', 'ask_c',\n",
       "       'Open', 'High', 'Low', 'Close', 'Volume', 'VWAP', 'RSI', 'BBL_14_2.0',\n",
       "       'BBM_14_2.0', 'BBU_14_2.0', 'BBB_14_2.0', 'BBP_14_2.0', 'atr',\n",
       "       'upper_band', 'lower_band', 'VWAPSignal', 'TotalSignal'],\n",
       "      dtype='object')"
      ]
     },
     "execution_count": 46,
     "metadata": {},
     "output_type": "execute_result"
    }
   ],
   "source": [
    "df.columns"
   ]
  },
  {
   "cell_type": "code",
   "execution_count": 47,
   "id": "fd069dc8",
   "metadata": {},
   "outputs": [],
   "source": [
    "last = df.iloc[-1]\n",
    "signal = last['TotalSignal']\n",
    "atr = last['atr']\n"
   ]
  },
  {
   "cell_type": "code",
   "execution_count": 48,
   "id": "1200ea9d",
   "metadata": {},
   "outputs": [
    {
     "data": {
      "text/plain": [
       "np.float64(0.00015591012170106293)"
      ]
     },
     "execution_count": 48,
     "metadata": {},
     "output_type": "execute_result"
    }
   ],
   "source": [
    "last.atr"
   ]
  },
  {
   "cell_type": "code",
   "execution_count": 49,
   "id": "05b4b2bb",
   "metadata": {},
   "outputs": [],
   "source": [
    "sl_distance = last.atr * 5\n",
    "tp_distance = last.atr * 5"
   ]
  },
  {
   "cell_type": "code",
   "execution_count": 50,
   "id": "3fa8bcdd",
   "metadata": {},
   "outputs": [
    {
     "data": {
      "text/plain": [
       "(np.float64(0.0007795506085053147), np.float64(0.0007795506085053147))"
      ]
     },
     "execution_count": 50,
     "metadata": {},
     "output_type": "execute_result"
    }
   ],
   "source": [
    "sl_distance , tp_distance"
   ]
  },
  {
   "cell_type": "code",
   "execution_count": 51,
   "id": "940a3a6d",
   "metadata": {},
   "outputs": [
    {
     "data": {
      "text/plain": [
       "(np.float64(1.7929904493914948),\n",
       " np.float64(1.79377),\n",
       " np.float64(1.7945495506085054))"
      ]
     },
     "execution_count": 51,
     "metadata": {},
     "output_type": "execute_result"
    }
   ],
   "source": [
    "last.Close - sl_distance , last.Close, last.Close + tp_distance"
   ]
  },
  {
   "cell_type": "code",
   "execution_count": null,
   "id": "7e678a23",
   "metadata": {},
   "outputs": [],
   "source": []
  },
  {
   "cell_type": "code",
   "execution_count": null,
   "id": "e9fa1e74",
   "metadata": {},
   "outputs": [
    {
     "name": "stdout",
     "output_type": "stream",
     "text": [
      "1.79299 Stop loss\n",
      "1.79455 Take profit\n",
      "[2025-08-26 16:13:57.843714+00:00] Order placed: {'orderCreateTransaction': {'id': '38848', 'accountID': '101-011-24509333-004', 'userID': 24509333, 'batchID': '38848', 'requestID': '97438133407906240', 'time': '2025-08-26T16:13:57.740980502Z', 'type': 'MARKET_ORDER', 'instrument': 'EUR_AUD', 'units': '1000', 'timeInForce': 'FOK', 'positionFill': 'DEFAULT', 'takeProfitOnFill': {'price': '1.79455', 'timeInForce': 'GTC'}, 'stopLossOnFill': {'price': '1.79299', 'timeInForce': 'GTC', 'triggerMode': 'TOP_OF_BOOK'}, 'reason': 'CLIENT_ORDER'}, 'orderFillTransaction': {'id': '38849', 'accountID': '101-011-24509333-004', 'userID': 24509333, 'batchID': '38848', 'requestID': '97438133407906240', 'time': '2025-08-26T16:13:57.740980502Z', 'type': 'ORDER_FILL', 'orderID': '38848', 'instrument': 'EUR_AUD', 'units': '1000', 'requestedUnits': '1000', 'price': '1.79406', 'pl': '0.0000', 'quotePL': '0', 'financing': '0.0000', 'baseFinancing': '0', 'commission': '0.0000', 'accountBalance': '120762.3005', 'gainQuoteHomeConversionFactor': '1', 'lossQuoteHomeConversionFactor': '1', 'guaranteedExecutionFee': '0.0000', 'quoteGuaranteedExecutionFee': '0', 'halfSpreadCost': '0.1750', 'fullVWAP': '1.79406', 'reason': 'MARKET_ORDER', 'tradeOpened': {'price': '1.79406', 'tradeID': '38849', 'units': '1000', 'guaranteedExecutionFee': '0.0000', 'quoteGuaranteedExecutionFee': '0', 'halfSpreadCost': '0.1750', 'initialMarginRequired': '59.7960'}, 'fullPrice': {'closeoutBid': '1.79314', 'closeoutAsk': '1.79464', 'timestamp': '2025-08-26T16:13:57.064164019Z', 'bids': [{'price': '1.79371', 'liquidity': '500000'}, {'price': '1.79367', 'liquidity': '500000'}, {'price': '1.79366', 'liquidity': '2000000'}, {'price': '1.79362', 'liquidity': '2000000'}, {'price': '1.79359', 'liquidity': '5000000'}, {'price': '1.79341', 'liquidity': '10000000'}, {'price': '1.79314', 'liquidity': '10000000'}], 'asks': [{'price': '1.79406', 'liquidity': '500000'}, {'price': '1.79410', 'liquidity': '500000'}, {'price': '1.79412', 'liquidity': '2000000'}, {'price': '1.79415', 'liquidity': '2000000'}, {'price': '1.79418', 'liquidity': '5000000'}, {'price': '1.79436', 'liquidity': '10000000'}, {'price': '1.79464', 'liquidity': '10000000'}]}, 'homeConversionFactors': {'gainQuoteHome': {'factor': '1'}, 'lossQuoteHome': {'factor': '1'}, 'gainBaseHome': {'factor': '1.78491060'}, 'lossBaseHome': {'factor': '1.80284940'}}}, 'relatedTransactionIDs': ['38848', '38849', '38850', '38851'], 'lastTransactionID': '38851'}\n"
     ]
    }
   ],
   "source": [
    "place_order(symbol=\"EUR_JPY\", side=\"buy\", sl_price=last.Close - sl_distance,tp_price= last.Close + tp_distance, units=1000)"
   ]
  },
  {
   "cell_type": "code",
   "execution_count": null,
   "id": "9fbface9",
   "metadata": {},
   "outputs": [],
   "source": []
  },
  {
   "cell_type": "code",
   "execution_count": null,
   "id": "c869f200",
   "metadata": {},
   "outputs": [],
   "source": []
  }
 ],
 "metadata": {
  "kernelspec": {
   "display_name": "OANDA_FOREX_SCALPING",
   "language": "python",
   "name": "python3"
  },
  "language_info": {
   "codemirror_mode": {
    "name": "ipython",
    "version": 3
   },
   "file_extension": ".py",
   "mimetype": "text/x-python",
   "name": "python",
   "nbconvert_exporter": "python",
   "pygments_lexer": "ipython3",
   "version": "3.12.9"
  }
 },
 "nbformat": 4,
 "nbformat_minor": 5
}
